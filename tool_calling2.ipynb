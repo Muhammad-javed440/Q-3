{
  "nbformat": 4,
  "nbformat_minor": 0,
  "metadata": {
    "colab": {
      "provenance": [],
      "include_colab_link": true
    },
    "kernelspec": {
      "name": "python3",
      "display_name": "Python 3"
    },
    "language_info": {
      "name": "python"
    }
  },
  "cells": [
    {
      "cell_type": "markdown",
      "metadata": {
        "id": "view-in-github",
        "colab_type": "text"
      },
      "source": [
        "<a href=\"https://colab.research.google.com/github/Muhammad-javed440/Q-3/blob/master/tool_calling2.ipynb\" target=\"_parent\"><img src=\"https://colab.research.google.com/assets/colab-badge.svg\" alt=\"Open In Colab\"/></a>"
      ]
    },
    {
      "cell_type": "code",
      "execution_count": 45,
      "metadata": {
        "id": "C9EdmE2M5xkh"
      },
      "outputs": [],
      "source": [
        "# install pakages\n",
        "!pip install --upgrade -q langchain-google-genai"
      ]
    },
    {
      "cell_type": "code",
      "source": [
        "from google.colab import userdata\n",
        "# GEMINI API KEY\n",
        "GOOGLE_API_KEY= userdata.get(\"GEMINI_API_KEY\")\n",
        "# WETAHTER API KEY\n",
        "WEATHER_API_KEY= userdata.get(\"WATHER_API_KEY\")"
      ],
      "metadata": {
        "id": "1MYXuRP76VLV"
      },
      "execution_count": 46,
      "outputs": []
    },
    {
      "cell_type": "code",
      "source": [
        "from langchain_google_genai import ChatGoogleGenerativeAI\n",
        "from IPython.display import display, Markdown"
      ],
      "metadata": {
        "id": "huVaxtno6pJ-"
      },
      "execution_count": 47,
      "outputs": []
    },
    {
      "cell_type": "code",
      "source": [
        "# configure model and\n",
        "llm = ChatGoogleGenerativeAI(\n",
        "    model=\"gemini-2.0-flash-exp\",\n",
        "    api_key=GOOGLE_API_KEY # GEMINI API KEY\n",
        ")"
      ],
      "metadata": {
        "id": "W-gW2xeM680L"
      },
      "execution_count": 48,
      "outputs": []
    },
    {
      "cell_type": "code",
      "source": [
        "response=llm.invoke(\"explain me summary of about red rose in 10 words\")\n",
        "display(Markdown(response.content))"
      ],
      "metadata": {
        "colab": {
          "base_uri": "https://localhost:8080/",
          "height": 46
        },
        "id": "KhXblhk87Q0H",
        "outputId": "a2adcba4-cb2f-4ca3-8693-47ba8905de82"
      },
      "execution_count": 49,
      "outputs": [
        {
          "output_type": "display_data",
          "data": {
            "text/plain": [
              "<IPython.core.display.Markdown object>"
            ],
            "text/markdown": "Love, passion, beauty, romance, often symbolizes deep affection."
          },
          "metadata": {}
        }
      ]
    },
    {
      "cell_type": "code",
      "source": [
        "from langchain_core.tools import tool\n",
        "import requests\n",
        "\n",
        "# decorator\n",
        "@tool\n",
        "def annual_return(a:int):\n",
        "  \"\"\"Returns annual return of a number\"\"\"\n",
        "  return (a +15)/5\n",
        "\n",
        "# decorator\n",
        "@tool\n",
        "def add_two_numbers(a:int, b :int):\n",
        "  \"\"\"Returns additional return of a number\"\"\" # this doc string\n",
        "  return (a +b)\n",
        "\n",
        "\n",
        "# decorator\n",
        "@tool\n",
        "def multi(a:int, b:int):\n",
        "    \"\"\"Returns multiply return of a number\"\"\"\n",
        "    return( a*b)\n",
        "\n",
        "@tool\n",
        "def get_weather_data(city: str):\n",
        "    \"\"\"\n",
        "    Fetches weather data for the given city using OpenWeatherMap API.\n",
        "\n",
        "    Args:\n",
        "        city (str): The name of the city to get the weather for.\n",
        "        api_key (str): Your OpenWeatherMap API key.\n",
        "\n",
        "    Returns:\n",
        "        dict: A dictionary containing weather data for the city.\n",
        "    \"\"\"\n",
        "    base_url = f\"https://api.openweathermap.org/data/2.5/weather\"\n",
        "    params = {\n",
        "        \"q\": city,\n",
        "        \"appid\": WEATHER_API_KEY,\n",
        "        \"units\": \"metric\"  # Use \"imperial\" for Fahrenheit\n",
        "    }\n",
        "\n",
        "    try:\n",
        "        response = requests.get(base_url, params=params)\n",
        "        response.raise_for_status()  # Raise an HTTPError for bad responses\n",
        "        weather_data = response.json()\n",
        "        return weather_data\n",
        "    except requests.exceptions.RequestException as e:\n",
        "        return {\"error\": str(e)}\n",
        "\n"
      ],
      "metadata": {
        "id": "wAoh5g1w-ybq"
      },
      "execution_count": 51,
      "outputs": []
    },
    {
      "cell_type": "code",
      "source": [
        "tools = [ annual_return, multi , add_two_numbers,get_weather_data]"
      ],
      "metadata": {
        "id": "7LykAiZkANah"
      },
      "execution_count": 52,
      "outputs": []
    },
    {
      "cell_type": "code",
      "source": [
        "response = llm.invoke(\"Whay is the annual return of 10?\")\n",
        "display(Markdown(response.content))"
      ],
      "metadata": {
        "colab": {
          "base_uri": "https://localhost:8080/",
          "height": 628
        },
        "id": "gFuqwcn9-CMa",
        "outputId": "ce869a05-71fc-4293-f1bb-082756a0fd4c"
      },
      "execution_count": 53,
      "outputs": [
        {
          "output_type": "display_data",
          "data": {
            "text/plain": [
              "<IPython.core.display.Markdown object>"
            ],
            "text/markdown": "The phrase \"annual return of 10\" is ambiguous and needs more context. It could mean several things, depending on what you're referring to. Here are the most common interpretations and how to calculate them:\n\n**1. Percentage Return (Most Likely Interpretation):**\n\n*   **Meaning:**  This usually means a 10% annual return. This is the most common way to express investment returns.\n*   **Calculation:** A 10% return means that for every $100 you invest, you earn $10 in one year.\n    *   **Example:** If you invest $1000 and have a 10% annual return, you will have $1100 at the end of the year ($1000 + $100).\n\n**2. Absolute Return (Less Likely):**\n\n*   **Meaning:** This could mean that your investment grew by 10 units of whatever currency you invested.\n*   **Calculation:** If you invested $100 and have an absolute return of 10, you'd end up with $110.\n    *   **Example:** If you invested $100 and had an absolute return of 10, you'd end up with $110. The return is simply the difference between the final value and initial value.\n*   **Why it's less likely:** This is less common because it's hard to compare across different investments. A return of 10 on a $100 investment is very different than a return of 10 on a $1000 investment.\n\n**3. Return in a Specific Unit (Very Unlikely):**\n\n*   **Meaning:**  In very specific and unusual cases, \"return of 10\" could refer to a return in some other unit, like bushels of wheat, etc.\n*   **Why it's unlikely:** This is almost never the case when discussing standard investments.\n\n**How to Determine the Correct Meaning**\n\nTo understand what \"annual return of 10\" means in your specific case, consider the following:\n\n*   **Context:** Where did you hear or read this phrase? Was it in the context of stocks, bonds, real estate, or something else?\n*   **Percentage Sign:** Was there a percentage sign (%) included? If so, it almost certainly means a 10% return.\n*   **Specific Units:** Were any specific units mentioned? For example, if someone said, \"The farm had an annual return of 10 bushels per acre,\" that would be a different kind of return.\n\n**In summary, unless there's other information, a phrase like \"annual return of 10\" almost always refers to a 10% annual return.**\n\n**If you can provide more context, I can give you a more precise answer.** For example, you could tell me:\n\n*   What are you investing in?\n*   Where did you encounter this phrase?\n*   Are you looking at specific numbers or a general concept?\n\nKnowing this will help me give you a much more accurate answer."
          },
          "metadata": {}
        }
      ]
    },
    {
      "cell_type": "code",
      "source": [
        "\n",
        "llm_with_tools = llm.bind_tools(tools)"
      ],
      "metadata": {
        "id": "P7ZB82SP-JRb"
      },
      "execution_count": 54,
      "outputs": []
    },
    {
      "cell_type": "code",
      "source": [
        "response = llm_with_tools.invoke(\"What is the anual return  of 20?\")\n",
        "\n",
        "display(Markdown(response.content))"
      ],
      "metadata": {
        "colab": {
          "base_uri": "https://localhost:8080/",
          "height": 17
        },
        "id": "AIVz-4mN-eL-",
        "outputId": "dedf74ed-2cea-42fd-f141-ebc0be7784e6"
      },
      "execution_count": 55,
      "outputs": [
        {
          "output_type": "display_data",
          "data": {
            "text/plain": [
              "<IPython.core.display.Markdown object>"
            ],
            "text/markdown": ""
          },
          "metadata": {}
        }
      ]
    },
    {
      "cell_type": "code",
      "source": [
        "from langchain_core.messages import HumanMessage\n",
        "query = \"Q1 What is the weather of murree ?, Q2 add two number 5 and 6?\"\n",
        "\n",
        "message = [HumanMessage(query)]\n",
        "\n",
        "display(message)"
      ],
      "metadata": {
        "colab": {
          "base_uri": "https://localhost:8080/",
          "height": 34
        },
        "id": "y9zfI2F_-n3b",
        "outputId": "bdde02c2-29a7-4a4f-f34e-7477adc1ccbe"
      },
      "execution_count": 56,
      "outputs": [
        {
          "output_type": "display_data",
          "data": {
            "text/plain": [
              "[HumanMessage(content='Q1 What is the weather of murree ?, Q2 add two number 5 and 6?', additional_kwargs={}, response_metadata={})]"
            ]
          },
          "metadata": {}
        }
      ]
    },
    {
      "cell_type": "code",
      "source": [
        "ai_msg = llm_with_tools.invoke(message)\n",
        "message.append(tools)\n",
        "message"
      ],
      "metadata": {
        "colab": {
          "base_uri": "https://localhost:8080/"
        },
        "id": "zJEQvMTHCA6X",
        "outputId": "6b8ae85c-a63d-4ee3-d467-4dd680453a49"
      },
      "execution_count": 57,
      "outputs": [
        {
          "output_type": "execute_result",
          "data": {
            "text/plain": [
              "[HumanMessage(content='Q1 What is the weather of murree ?, Q2 add two number 5 and 6?', additional_kwargs={}, response_metadata={}),\n",
              " [StructuredTool(name='annual_return', description='Returns annual return of a number', args_schema=<class 'langchain_core.utils.pydantic.annual_return'>, func=<function annual_return at 0x7d3a548532e0>),\n",
              "  StructuredTool(name='multi', description='Returns multiply return of a number', args_schema=<class 'langchain_core.utils.pydantic.multi'>, func=<function multi at 0x7d3a549ed360>),\n",
              "  StructuredTool(name='add_two_numbers', description='Returns additional return of a number', args_schema=<class 'langchain_core.utils.pydantic.add_two_numbers'>, func=<function add_two_numbers at 0x7d3a549ed3f0>),\n",
              "  StructuredTool(name='get_weather_data', description='Fetches weather data for the given city using OpenWeatherMap API.\\n\\nArgs:\\n    city (str): The name of the city to get the weather for.\\n    api_key (str): Your OpenWeatherMap API key.\\n\\nReturns:\\n    dict: A dictionary containing weather data for the city.', args_schema=<class 'langchain_core.utils.pydantic.get_weather_data'>, func=<function get_weather_data at 0x7d3a549ed1b0>)]]"
            ]
          },
          "metadata": {},
          "execution_count": 57
        }
      ]
    },
    {
      "cell_type": "code",
      "source": [
        "ai_msg.tool_calls"
      ],
      "metadata": {
        "colab": {
          "base_uri": "https://localhost:8080/"
        },
        "id": "2JqGJDNNCkk6",
        "outputId": "28ce92b0-c11c-4970-e0d4-33fb14d54146"
      },
      "execution_count": 58,
      "outputs": [
        {
          "output_type": "execute_result",
          "data": {
            "text/plain": [
              "[{'name': 'get_weather_data',\n",
              "  'args': {'city': 'murree'},\n",
              "  'id': 'd76f974f-2538-4a66-97ec-b8282233b2a6',\n",
              "  'type': 'tool_call'},\n",
              " {'name': 'add_two_numbers',\n",
              "  'args': {'a': 5.0, 'b': 6.0},\n",
              "  'id': 'c273f59c-a7dc-4789-a007-3104ea51b1c8',\n",
              "  'type': 'tool_call'}]"
            ]
          },
          "metadata": {},
          "execution_count": 58
        }
      ]
    },
    {
      "cell_type": "code",
      "source": [
        "for tool_call in      ai_msg.tool_calls:\n",
        "  selected_tool={\n",
        "      \"add_two_numbers\":add_two_numbers,\n",
        "      \"multiply\":multi,\n",
        "      \"annual_return\":annual_return,\n",
        "      \"get_weather_data\":get_weather_data\n",
        "  }[tool_call[\"name\"].lower()]\n",
        "\n",
        "  tool_msg = selected_tool.invoke(tool_call)\n",
        "  # display(tool_msg)\n",
        "  message.append(tool_msg)\n",
        "display(message)"
      ],
      "metadata": {
        "colab": {
          "base_uri": "https://localhost:8080/",
          "height": 260
        },
        "id": "mAPLm6c-DZGb",
        "outputId": "32b168d2-adbf-4f71-8833-fe64f7da2d4e"
      },
      "execution_count": 59,
      "outputs": [
        {
          "output_type": "display_data",
          "data": {
            "text/plain": [
              "[HumanMessage(content='Q1 What is the weather of murree ?, Q2 add two number 5 and 6?', additional_kwargs={}, response_metadata={}),\n",
              " [StructuredTool(name='annual_return', description='Returns annual return of a number', args_schema=<class 'langchain_core.utils.pydantic.annual_return'>, func=<function annual_return at 0x7d3a548532e0>),\n",
              "  StructuredTool(name='multi', description='Returns multiply return of a number', args_schema=<class 'langchain_core.utils.pydantic.multi'>, func=<function multi at 0x7d3a549ed360>),\n",
              "  StructuredTool(name='add_two_numbers', description='Returns additional return of a number', args_schema=<class 'langchain_core.utils.pydantic.add_two_numbers'>, func=<function add_two_numbers at 0x7d3a549ed3f0>),\n",
              "  StructuredTool(name='get_weather_data', description='Fetches weather data for the given city using OpenWeatherMap API.\\n\\nArgs:\\n    city (str): The name of the city to get the weather for.\\n    api_key (str): Your OpenWeatherMap API key.\\n\\nReturns:\\n    dict: A dictionary containing weather data for the city.', args_schema=<class 'langchain_core.utils.pydantic.get_weather_data'>, func=<function get_weather_data at 0x7d3a549ed1b0>)],\n",
              " ToolMessage(content='{\"coord\": {\"lon\": 73.393, \"lat\": 33.9073}, \"weather\": [{\"id\": 801, \"main\": \"Clouds\", \"description\": \"few clouds\", \"icon\": \"02n\"}], \"base\": \"stations\", \"main\": {\"temp\": 2.59, \"feels_like\": -1.22, \"temp_min\": 2.59, \"temp_max\": 2.59, \"pressure\": 1021, \"humidity\": 27, \"sea_level\": 1021, \"grnd_level\": 872}, \"visibility\": 10000, \"wind\": {\"speed\": 4.19, \"deg\": 22, \"gust\": 4.16}, \"clouds\": {\"all\": 24}, \"dt\": 1736794156, \"sys\": {\"country\": \"PK\", \"sunrise\": 1736734305, \"sunset\": 1736770677}, \"timezone\": 18000, \"id\": 1169684, \"name\": \"Murree\", \"cod\": 200}', name='get_weather_data', tool_call_id='d76f974f-2538-4a66-97ec-b8282233b2a6'),\n",
              " ToolMessage(content='11', name='add_two_numbers', tool_call_id='c273f59c-a7dc-4789-a007-3104ea51b1c8')]"
            ]
          },
          "metadata": {}
        }
      ]
    },
    {
      "cell_type": "code",
      "source": [
        "ai_msg.tool_calls"
      ],
      "metadata": {
        "id": "FIN_ZVOrVwzl",
        "colab": {
          "base_uri": "https://localhost:8080/"
        },
        "outputId": "69c23af9-39be-42e2-938e-347418918824"
      },
      "execution_count": 60,
      "outputs": [
        {
          "output_type": "execute_result",
          "data": {
            "text/plain": [
              "[{'name': 'get_weather_data',\n",
              "  'args': {'city': 'murree'},\n",
              "  'id': 'd76f974f-2538-4a66-97ec-b8282233b2a6',\n",
              "  'type': 'tool_call'},\n",
              " {'name': 'add_two_numbers',\n",
              "  'args': {'a': 5.0, 'b': 6.0},\n",
              "  'id': 'c273f59c-a7dc-4789-a007-3104ea51b1c8',\n",
              "  'type': 'tool_call'}]"
            ]
          },
          "metadata": {},
          "execution_count": 60
        }
      ]
    }
  ]
}