{
 "cells": [
  {
   "cell_type": "markdown",
   "metadata": {},
   "source": [
    "# Creating Chatbort"
   ]
  },
  {
   "cell_type": "code",
   "execution_count": 2,
   "metadata": {},
   "outputs": [],
   "source": [
    "# pip install sympy\n"
   ]
  },
  {
   "cell_type": "code",
   "execution_count": 1,
   "metadata": {},
   "outputs": [
    {
     "name": "stdout",
     "output_type": "stream",
     "text": [
      "Hello! I am your Math Chatbot . Type 'exit' to quit.\n",
      "You can ask me to solve equation  or simplify expression.\n",
      "Chatbot: Goodbye! Happy problem-solving!\n"
     ]
    }
   ],
   "source": [
    "\n",
    "import sympy as sp\n",
    "\n",
    "def solve_and_explain(problem):\n",
    "    \"\"\"\n",
    "    Solve and explain a math problem.\n",
    "    \n",
    "    \"\"\"\n",
    "    try:\n",
    "        # Prase the input as a sympy expression\n",
    "        expr = sp.sympify(problem)\n",
    "        \n",
    "        # Solve or simplify the expression\n",
    "        if expr.is_Equality:\n",
    "            solution = sp.solve(expr, dict=True)\n",
    "            explanation = f\"I solved the equation: {problem}\\nSolution: {solution}\"\n",
    "        else:\n",
    "            solution = sp.simplify(expr)\n",
    "            explanation =f\"I simplified the expression: {problem}\\nSimplified result: {solution}\"\n",
    "            return solution,explanation\n",
    "    except Exception as e:\n",
    "        return None, f\"Sorry, I could not understand the problem. Error: {e}\"\n",
    "    \n",
    "def chatbot():\n",
    "    \"\"\"\n",
    "    Interactive chatbot for solving math problems.\n",
    "    \"\"\"\n",
    "    print(\"Hello! I am your Math Chatbot . Type 'exit' to quit.\")\n",
    "    print(\"You can ask me to solve equation  or simplify expression.\")\n",
    "    \n",
    "    while True:\n",
    "        user_input = input(\"\\nYou:\").strip()\n",
    "        if user_input.lower() in {'exit', 'quit'}:\n",
    "            print(\"Chatbot: Goodbye! Happy problem-solving!\")\n",
    "            break\n",
    "        \n",
    "        solution, explanation = solve_and_explain(user_input)\n",
    "        if solution is not None:\n",
    "            print(f\"Chatbot: {explanation}\")\n",
    "        else:\n",
    "            print(f\"Chatbot: {explanation}\")\n",
    "            \n",
    "if __name__ == \"__main__\":\n",
    "    chatbot()\n",
    "            \n",
    "            "
   ]
  }
 ],
 "metadata": {
  "kernelspec": {
   "display_name": "base",
   "language": "python",
   "name": "python3"
  },
  "language_info": {
   "codemirror_mode": {
    "name": "ipython",
    "version": 3
   },
   "file_extension": ".py",
   "mimetype": "text/x-python",
   "name": "python",
   "nbconvert_exporter": "python",
   "pygments_lexer": "ipython3",
   "version": "3.12.7"
  }
 },
 "nbformat": 4,
 "nbformat_minor": 2
}
