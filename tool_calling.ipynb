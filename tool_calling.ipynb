{
  "nbformat": 4,
  "nbformat_minor": 0,
  "metadata": {
    "colab": {
      "provenance": [],
      "include_colab_link": true
    },
    "kernelspec": {
      "name": "python3",
      "display_name": "Python 3"
    },
    "language_info": {
      "name": "python"
    }
  },
  "cells": [
    {
      "cell_type": "markdown",
      "metadata": {
        "id": "view-in-github",
        "colab_type": "text"
      },
      "source": [
        "<a href=\"https://colab.research.google.com/github/Muhammad-javed440/Q-3/blob/master/tool_calling.ipynb\" target=\"_parent\"><img src=\"https://colab.research.google.com/assets/colab-badge.svg\" alt=\"Open In Colab\"/></a>"
      ]
    },
    {
      "cell_type": "code",
      "execution_count": 1,
      "metadata": {
        "colab": {
          "base_uri": "https://localhost:8080/"
        },
        "id": "C9EdmE2M5xkh",
        "outputId": "9b950e4d-f649-4329-a0ab-df9d7dfaa939"
      },
      "outputs": [
        {
          "output_type": "stream",
          "name": "stdout",
          "text": [
            "\u001b[?25l   \u001b[90m━━━━━━━━━━━━━━━━━━━━━━━━━━━━━━━━━━━━━━━━\u001b[0m \u001b[32m0.0/41.5 kB\u001b[0m \u001b[31m?\u001b[0m eta \u001b[36m-:--:--\u001b[0m\r\u001b[2K   \u001b[90m━━━━━━━━━━━━━━━━━━━━━━━━━━━━━━━━━━━━━━━━\u001b[0m \u001b[32m41.5/41.5 kB\u001b[0m \u001b[31m1.4 MB/s\u001b[0m eta \u001b[36m0:00:00\u001b[0m\n",
            "\u001b[?25h"
          ]
        }
      ],
      "source": [
        "# install pakages\n",
        "!pip install --upgrade -q langchain-google-genai"
      ]
    },
    {
      "cell_type": "code",
      "source": [
        "from google.colab import userdata\n",
        "# GEMINI API KEY\n",
        "GOOGLE_API_KEY= userdata.get(\"GEMINI_API_KEY\")\n",
        "# WETAHTER API KEY\n",
        "WEATHER_API_KEY= userdata.get(\"WATHER_API_KEY\")"
      ],
      "metadata": {
        "id": "1MYXuRP76VLV"
      },
      "execution_count": 2,
      "outputs": []
    },
    {
      "cell_type": "code",
      "source": [
        "from langchain_google_genai import ChatGoogleGenerativeAI"
      ],
      "metadata": {
        "id": "huVaxtno6pJ-"
      },
      "execution_count": 3,
      "outputs": []
    },
    {
      "cell_type": "code",
      "source": [
        "# configure model and\n",
        "llm = ChatGoogleGenerativeAI(\n",
        "    model=\"gemini-2.0-flash-exp\",\n",
        "    api_key=GOOGLE_API_KEY # GEMINI API KEY\n",
        ")"
      ],
      "metadata": {
        "id": "W-gW2xeM680L"
      },
      "execution_count": 4,
      "outputs": []
    },
    {
      "cell_type": "code",
      "source": [
        "llm.invoke(\"Hi!\")"
      ],
      "metadata": {
        "colab": {
          "base_uri": "https://localhost:8080/"
        },
        "id": "KhXblhk87Q0H",
        "outputId": "58490430-d055-4b6e-c5fb-6faec98ba7d1"
      },
      "execution_count": 5,
      "outputs": [
        {
          "output_type": "execute_result",
          "data": {
            "text/plain": [
              "AIMessage(content='Hi there! How can I help you today?', additional_kwargs={}, response_metadata={'prompt_feedback': {'block_reason': 0, 'safety_ratings': []}, 'finish_reason': 'STOP', 'safety_ratings': [{'category': 'HARM_CATEGORY_HATE_SPEECH', 'probability': 'NEGLIGIBLE', 'blocked': False}, {'category': 'HARM_CATEGORY_DANGEROUS_CONTENT', 'probability': 'NEGLIGIBLE', 'blocked': False}, {'category': 'HARM_CATEGORY_HARASSMENT', 'probability': 'NEGLIGIBLE', 'blocked': False}, {'category': 'HARM_CATEGORY_SEXUALLY_EXPLICIT', 'probability': 'NEGLIGIBLE', 'blocked': False}]}, id='run-294f5909-c02a-4b80-90b9-dad035c8d965-0', usage_metadata={'input_tokens': 3, 'output_tokens': 11, 'total_tokens': 14, 'input_token_details': {'cache_read': 0}})"
            ]
          },
          "metadata": {},
          "execution_count": 5
        }
      ]
    },
    {
      "cell_type": "code",
      "source": [
        "from langchain_core.tools import tool\n",
        "import requests\n",
        "\n",
        "# decorator\n",
        "@tool\n",
        "def annual_return(a:int):\n",
        "  \"\"\"Returns annual return of a number\"\"\"\n",
        "  return (a +15)/5\n",
        "\n",
        "# decorator\n",
        "@tool\n",
        "def add_two_numbers(a:int, b :int):\n",
        "  \"\"\"Returns additional return of a number\"\"\" # this doc string\n",
        "  return (a +b)\n",
        "\n",
        "\n",
        "# decorator\n",
        "@tool\n",
        "def multi(a:int, b:int):\n",
        "    \"\"\"Returns multiply return of a number\"\"\"\n",
        "    return( a*b)\n",
        "\n",
        "\n",
        "\n",
        "\n",
        "\n",
        "\n",
        "@tool\n",
        "def get_weather_data(city: str):\n",
        "    \"\"\"\n",
        "    Fetches weather data for the given city using OpenWeatherMap API.\n",
        "\n",
        "    Args:\n",
        "        city (str): The name of the city to get the weather for.\n",
        "        api_key (str): Your OpenWeatherMap API key.\n",
        "\n",
        "    Returns:\n",
        "        dict: A dictionary containing weather data for the city.\n",
        "    \"\"\"\n",
        "    base_url = f\"https://api.openweathermap.org/data/2.5/weather\"\n",
        "    params = {\n",
        "        \"q\": city,\n",
        "        \"appid\": WEATHER_API_KEY,\n",
        "        \"units\": \"metric\"  # Use \"imperial\" for Fahrenheit\n",
        "    }\n",
        "\n",
        "    try:\n",
        "        response = requests.get(base_url, params=params)\n",
        "        response.raise_for_status()  # Raise an HTTPError for bad responses\n",
        "        weather_data = response.json()\n",
        "        return weather_data\n",
        "    except requests.exceptions.RequestException as e:\n",
        "        return {\"error\": str(e)}\n",
        "\n"
      ],
      "metadata": {
        "id": "wAoh5g1w-ybq"
      },
      "execution_count": 6,
      "outputs": []
    },
    {
      "cell_type": "code",
      "source": [
        "tools = [ annual_return, multi , add_two_numbers,get_weather_data]"
      ],
      "metadata": {
        "id": "7LykAiZkANah"
      },
      "execution_count": 7,
      "outputs": []
    },
    {
      "cell_type": "code",
      "source": [
        "response = llm.invoke(\"Whay is the annual return of 10?\")\n",
        "display(response.content)"
      ],
      "metadata": {
        "colab": {
          "base_uri": "https://localhost:8080/",
          "height": 123
        },
        "id": "gFuqwcn9-CMa",
        "outputId": "c882cb49-924c-461b-e64e-b80006cf6cf3"
      },
      "execution_count": 8,
      "outputs": [
        {
          "output_type": "display_data",
          "data": {
            "text/plain": [
              "'The phrase \"annual return of 10\" is ambiguous. It could mean a few different things, depending on the context. Here are the most common interpretations and how to understand them:\\n\\n**1. 10% Annual Return:**\\n\\n*   **Meaning:** This is the most likely interpretation. It means that an investment grows by 10% of its value each year.\\n*   **Example:** If you invest $100, and have an annual return of 10%, you would have $110 at the end of the first year. In the second year, your $110 would grow by 10% to $121. This is compounding.\\n*   **Calculation:** To calculate the value after a certain number of years, you can use the formula:\\n    *   Future Value = Principal * (1 + Return Rate)^Number of Years\\n    *   For example, after 5 years, the future value would be $100 * (1 + 0.10)^5 = $161.05 (approximately)\\n\\n**2. Return of 10 Units (Not Percentage):**\\n\\n*   **Meaning:** This is less common but could refer to a fixed return of 10 units (e.g., dollars, points, etc.) per year, regardless of the initial investment.\\n*   **Example:** If you invest $100 and get a return of $10 per year, you would have $110 at the end of the first year, $120 at the end of the second year, etc. This is a simple, non-compounding return.\\n*   **Calculation:** The future value after \\'n\\' years would be:\\n    *   Future Value = Principal + (Return Per Year * Number of Years)\\n    *   For example, after 5 years, the future value would be $100 + ($10 * 5) = $150\\n\\n**3. Return of 10x (10 Times):**\\n\\n*   **Meaning:** This is highly unusual to refer to an annual return. A return of 10x usually implies that the original investment has increased tenfold. This is a total return, not an annual return.\\n*   **Example:** If you invest $100 and get a 10x return, you would have $1000 total (including the original investment).\\n*   **Context:** This type of return is more likely to be discussed in the context of a single, specific investment outcome over a longer period rather than an annual return.\\n\\n**To Get a Clear Answer, You Need More Context:**\\n\\nTo determine the precise meaning of \"annual return of 10,\" it is essential to know:\\n\\n*   **What is being invested?**  (e.g., money, stocks, bonds, etc.)\\n*   **Is it a percentage or a fixed amount?** (e.g., 10%, $10, etc.)\\n*   **Over what time period?** (e.g., a year, multiple years, etc.)\\n\\n**In most financial contexts, \"annual return of 10\" will mean a 10% annual return.** However, it\\'s always important to confirm the context to be sure.\\n\\n**In summary:** If you\\'re talking about investments, a 10% annual return is the most probable interpretation. If you have more specific details about the situation, I can provide a more precise explanation.'"
            ],
            "application/vnd.google.colaboratory.intrinsic+json": {
              "type": "string"
            }
          },
          "metadata": {}
        }
      ]
    },
    {
      "cell_type": "code",
      "source": [
        "\n",
        "llm_with_tools = llm.bind_tools(tools)"
      ],
      "metadata": {
        "id": "P7ZB82SP-JRb"
      },
      "execution_count": 10,
      "outputs": []
    },
    {
      "cell_type": "code",
      "source": [
        "response = llm_with_tools.invoke(\"What is the anual return  of 20?\")\n",
        "\n",
        "response"
      ],
      "metadata": {
        "colab": {
          "base_uri": "https://localhost:8080/"
        },
        "id": "AIVz-4mN-eL-",
        "outputId": "2773609f-6e2c-445f-b566-fbf9cc96ac90"
      },
      "execution_count": 12,
      "outputs": [
        {
          "output_type": "execute_result",
          "data": {
            "text/plain": [
              "AIMessage(content='', additional_kwargs={'function_call': {'name': 'annual_return', 'arguments': '{\"a\": 20.0}'}}, response_metadata={'prompt_feedback': {'block_reason': 0, 'safety_ratings': []}, 'finish_reason': 'STOP', 'safety_ratings': [{'category': 'HARM_CATEGORY_HATE_SPEECH', 'probability': 'NEGLIGIBLE', 'blocked': False}, {'category': 'HARM_CATEGORY_DANGEROUS_CONTENT', 'probability': 'NEGLIGIBLE', 'blocked': False}, {'category': 'HARM_CATEGORY_HARASSMENT', 'probability': 'NEGLIGIBLE', 'blocked': False}, {'category': 'HARM_CATEGORY_SEXUALLY_EXPLICIT', 'probability': 'NEGLIGIBLE', 'blocked': False}]}, id='run-549c1a4e-3929-4a5f-bfd1-f764c0a19b70-0', tool_calls=[{'name': 'annual_return', 'args': {'a': 20.0}, 'id': '29fec0a4-1c23-40a3-af27-43a4ebde1b6a', 'type': 'tool_call'}], usage_metadata={'input_tokens': 247, 'output_tokens': 4, 'total_tokens': 251, 'input_token_details': {'cache_read': 0}})"
            ]
          },
          "metadata": {},
          "execution_count": 12
        }
      ]
    },
    {
      "cell_type": "code",
      "source": [
        "from langchain_core.messages import HumanMessage\n",
        "query = \"Q1 What is the weather of murree ?, Q2 add two number 5 and 6?\"\n",
        "\n",
        "message = [HumanMessage(query)]\n",
        "\n",
        "display(message)"
      ],
      "metadata": {
        "colab": {
          "base_uri": "https://localhost:8080/",
          "height": 34
        },
        "id": "y9zfI2F_-n3b",
        "outputId": "14b03be3-e6d1-4a50-c329-73916f4b1a6a"
      },
      "execution_count": 18,
      "outputs": [
        {
          "output_type": "display_data",
          "data": {
            "text/plain": [
              "[HumanMessage(content='Q1 What is the weather of murree ?, Q2 add two number 5 and 6?', additional_kwargs={}, response_metadata={})]"
            ]
          },
          "metadata": {}
        }
      ]
    },
    {
      "cell_type": "code",
      "source": [
        "ai_msg = llm_with_tools.invoke(message)\n",
        "message.append(tools)\n",
        "message"
      ],
      "metadata": {
        "colab": {
          "base_uri": "https://localhost:8080/"
        },
        "id": "zJEQvMTHCA6X",
        "outputId": "0caaab7a-3342-47a2-88b5-174a6dfae8dd"
      },
      "execution_count": 19,
      "outputs": [
        {
          "output_type": "execute_result",
          "data": {
            "text/plain": [
              "[HumanMessage(content='Q1 What is the weather of murree ?, Q2 add two number 5 and 6?', additional_kwargs={}, response_metadata={}),\n",
              " [StructuredTool(name='annual_return', description='Returns annual return of a number', args_schema=<class 'langchain_core.utils.pydantic.annual_return'>, func=<function annual_return at 0x7d3a5c5c1750>),\n",
              "  StructuredTool(name='multi', description='Returns multiply return of a number', args_schema=<class 'langchain_core.utils.pydantic.multi'>, func=<function multi at 0x7d3a5c5c1a20>),\n",
              "  StructuredTool(name='add_two_numbers', description='Returns additional return of a number', args_schema=<class 'langchain_core.utils.pydantic.add_two_numbers'>, func=<function add_two_numbers at 0x7d3a89b6edd0>),\n",
              "  StructuredTool(name='get_weather_data', description='Fetches weather data for the given city using OpenWeatherMap API.\\n\\nArgs:\\n    city (str): The name of the city to get the weather for.\\n    api_key (str): Your OpenWeatherMap API key.\\n\\nReturns:\\n    dict: A dictionary containing weather data for the city.', args_schema=<class 'langchain_core.utils.pydantic.get_weather_data'>, func=<function get_weather_data at 0x7d3a5c5c1900>)]]"
            ]
          },
          "metadata": {},
          "execution_count": 19
        }
      ]
    },
    {
      "cell_type": "code",
      "source": [
        "ai_msg.tool_calls"
      ],
      "metadata": {
        "colab": {
          "base_uri": "https://localhost:8080/"
        },
        "id": "2JqGJDNNCkk6",
        "outputId": "88585f35-8e18-4af4-9447-21366e85cae9"
      },
      "execution_count": 20,
      "outputs": [
        {
          "output_type": "execute_result",
          "data": {
            "text/plain": [
              "[{'name': 'get_weather_data',\n",
              "  'args': {'city': 'murree'},\n",
              "  'id': '0412f7d9-543a-489e-a05a-0fc71b34c1c4',\n",
              "  'type': 'tool_call'},\n",
              " {'name': 'add_two_numbers',\n",
              "  'args': {'a': 5.0, 'b': 6.0},\n",
              "  'id': 'dae773aa-ddd9-487f-b5be-d7f3cb55cd0c',\n",
              "  'type': 'tool_call'}]"
            ]
          },
          "metadata": {},
          "execution_count": 20
        }
      ]
    },
    {
      "cell_type": "code",
      "source": [
        "for tool_call in      ai_msg.tool_calls:\n",
        "  selected_tool={\n",
        "      \"add_two_numbers\":add_two_numbers,\n",
        "      \"multiply\":multi,\n",
        "      \"annual_return\":annual_return,\n",
        "      \"get_weather_data\":get_weather_data\n",
        "  }[tool_call[\"name\"].lower()]\n",
        "\n",
        "  tool_msg = selected_tool.invoke(tool_call)\n",
        "  # display(tool_msg)\n",
        "  message.append(tool_msg)\n",
        "display(message)"
      ],
      "metadata": {
        "colab": {
          "base_uri": "https://localhost:8080/",
          "height": 260
        },
        "id": "mAPLm6c-DZGb",
        "outputId": "2ae4dd54-439c-481b-d8ab-e32763cf0741"
      },
      "execution_count": 21,
      "outputs": [
        {
          "output_type": "display_data",
          "data": {
            "text/plain": [
              "[HumanMessage(content='Q1 What is the weather of murree ?, Q2 add two number 5 and 6?', additional_kwargs={}, response_metadata={}),\n",
              " [StructuredTool(name='annual_return', description='Returns annual return of a number', args_schema=<class 'langchain_core.utils.pydantic.annual_return'>, func=<function annual_return at 0x7d3a5c5c1750>),\n",
              "  StructuredTool(name='multi', description='Returns multiply return of a number', args_schema=<class 'langchain_core.utils.pydantic.multi'>, func=<function multi at 0x7d3a5c5c1a20>),\n",
              "  StructuredTool(name='add_two_numbers', description='Returns additional return of a number', args_schema=<class 'langchain_core.utils.pydantic.add_two_numbers'>, func=<function add_two_numbers at 0x7d3a89b6edd0>),\n",
              "  StructuredTool(name='get_weather_data', description='Fetches weather data for the given city using OpenWeatherMap API.\\n\\nArgs:\\n    city (str): The name of the city to get the weather for.\\n    api_key (str): Your OpenWeatherMap API key.\\n\\nReturns:\\n    dict: A dictionary containing weather data for the city.', args_schema=<class 'langchain_core.utils.pydantic.get_weather_data'>, func=<function get_weather_data at 0x7d3a5c5c1900>)],\n",
              " ToolMessage(content='{\"coord\": {\"lon\": 73.393, \"lat\": 33.9073}, \"weather\": [{\"id\": 802, \"main\": \"Clouds\", \"description\": \"scattered clouds\", \"icon\": \"03n\"}], \"base\": \"stations\", \"main\": {\"temp\": 3, \"feels_like\": -0.61, \"temp_min\": 3, \"temp_max\": 3, \"pressure\": 1021, \"humidity\": 29, \"sea_level\": 1021, \"grnd_level\": 872}, \"visibility\": 10000, \"wind\": {\"speed\": 4.02, \"deg\": 23, \"gust\": 3.91}, \"clouds\": {\"all\": 35}, \"dt\": 1736792383, \"sys\": {\"country\": \"PK\", \"sunrise\": 1736734305, \"sunset\": 1736770677}, \"timezone\": 18000, \"id\": 1169684, \"name\": \"Murree\", \"cod\": 200}', name='get_weather_data', tool_call_id='0412f7d9-543a-489e-a05a-0fc71b34c1c4'),\n",
              " ToolMessage(content='11', name='add_two_numbers', tool_call_id='dae773aa-ddd9-487f-b5be-d7f3cb55cd0c')]"
            ]
          },
          "metadata": {}
        }
      ]
    },
    {
      "cell_type": "code",
      "source": [
        "ai_msg.tool_calls"
      ],
      "metadata": {
        "id": "FIN_ZVOrVwzl",
        "outputId": "1d6fce36-9ccc-4b59-918d-89de867d5d6b",
        "colab": {
          "base_uri": "https://localhost:8080/"
        }
      },
      "execution_count": 23,
      "outputs": [
        {
          "output_type": "execute_result",
          "data": {
            "text/plain": [
              "[{'name': 'get_weather_data',\n",
              "  'args': {'city': 'murree'},\n",
              "  'id': '0412f7d9-543a-489e-a05a-0fc71b34c1c4',\n",
              "  'type': 'tool_call'},\n",
              " {'name': 'add_two_numbers',\n",
              "  'args': {'a': 5.0, 'b': 6.0},\n",
              "  'id': 'dae773aa-ddd9-487f-b5be-d7f3cb55cd0c',\n",
              "  'type': 'tool_call'}]"
            ]
          },
          "metadata": {},
          "execution_count": 23
        }
      ]
    }
  ]
}