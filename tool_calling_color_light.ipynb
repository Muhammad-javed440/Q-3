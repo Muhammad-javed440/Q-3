{
  "nbformat": 4,
  "nbformat_minor": 0,
  "metadata": {
    "colab": {
      "provenance": [],
      "authorship_tag": "ABX9TyPqk6rVVAVLL19qd+c9NOl+",
      "include_colab_link": true
    },
    "kernelspec": {
      "name": "python3",
      "display_name": "Python 3"
    },
    "language_info": {
      "name": "python"
    }
  },
  "cells": [
    {
      "cell_type": "markdown",
      "metadata": {
        "id": "view-in-github",
        "colab_type": "text"
      },
      "source": [
        "<a href=\"https://colab.research.google.com/github/Muhammad-javed440/Q-3/blob/master/tool_calling_color_light.ipynb\" target=\"_parent\"><img src=\"https://colab.research.google.com/assets/colab-badge.svg\" alt=\"Open In Colab\"/></a>"
      ]
    },
    {
      "cell_type": "markdown",
      "source": [
        "# Tool Calling | Function calling"
      ],
      "metadata": {
        "id": "yrD05Pp4HkbE"
      }
    },
    {
      "cell_type": "code",
      "execution_count": 43,
      "metadata": {
        "id": "zZU-zJGwGviY"
      },
      "outputs": [],
      "source": [
        "!pip install -qU langchain_google_genai"
      ]
    },
    {
      "cell_type": "code",
      "source": [
        "from langchain_google_genai import ChatGoogleGenerativeAI\n",
        "from IPython.display import display, Markdown\n",
        "import google.generativeai as genai"
      ],
      "metadata": {
        "id": "SwkV4QHxHsf7"
      },
      "execution_count": 44,
      "outputs": []
    },
    {
      "cell_type": "code",
      "source": [
        "from google.colab import userdata\n",
        "GOOGLE_API_KEY=userdata.get('GEMINI_API_KEY')"
      ],
      "metadata": {
        "id": "GTbfiKp5Jqro"
      },
      "execution_count": 45,
      "outputs": []
    },
    {
      "cell_type": "markdown",
      "source": [
        "# Creating Models"
      ],
      "metadata": {
        "id": "BBfb2kxwJMS0"
      }
    },
    {
      "cell_type": "code",
      "source": [
        "llm = ChatGoogleGenerativeAI(\n",
        "    model=\"gemini-2.0-flash-exp\",\n",
        "    api_key=GOOGLE_API_KEY,\n",
        "    temperature=0.4,\n",
        "    max_tokens=100,\n",
        "    max_retries=3,\n",
        ")"
      ],
      "metadata": {
        "id": "kVdsmvZoNCYz"
      },
      "execution_count": 46,
      "outputs": []
    },
    {
      "cell_type": "code",
      "source": [
        "response =llm.invoke(\"What is the capital of pakistan?\")\n",
        "display(Markdown(response.content))"
      ],
      "metadata": {
        "colab": {
          "base_uri": "https://localhost:8080/",
          "height": 46
        },
        "id": "vkTLXMmrLwTc",
        "outputId": "d350f7e7-f83a-465c-a53c-bfb626053190"
      },
      "execution_count": 47,
      "outputs": [
        {
          "output_type": "display_data",
          "data": {
            "text/plain": [
              "<IPython.core.display.Markdown object>"
            ],
            "text/markdown": "The capital of Pakistan is **Islamabad**."
          },
          "metadata": {}
        }
      ]
    },
    {
      "cell_type": "markdown",
      "source": [
        "# Creating tools"
      ],
      "metadata": {
        "id": "SJLCyVKbdECs"
      }
    },
    {
      "cell_type": "code",
      "source": [
        "from google.colab import userdata\n",
        "GOOGLE_API_KEY=userdata.get('GEMINI_API_KEY')"
      ],
      "metadata": {
        "id": "lKorFbKyj3ls"
      },
      "execution_count": 64,
      "outputs": []
    },
    {
      "cell_type": "code",
      "source": [
        "genai.configure(api_key=GOOGLE_API_KEY)"
      ],
      "metadata": {
        "id": "jgQSDDfUj4uf"
      },
      "execution_count": 65,
      "outputs": []
    },
    {
      "cell_type": "code",
      "source": [
        "from langchain_core.tools import tool\n",
        "import requests\n",
        "\n",
        "def enable_light()->str:  # Removed @tool decorator\n",
        "  \"\"\"Turn on the lighting system\"\"\"\n",
        "  print(\"LIGHT BOT: Lighting system turned on\")\n",
        "  return \"Lighting system turned on\"  # Added return statement\n",
        "\n",
        "def set_light_color(rgb_hex:str)->str:  # Removed @tool decorator\n",
        "  \"\"\" Set the light color ,Light must be enabled for this to work\"\"\"\n",
        "  print(f\"LIGHT BOT:light set to{rgb_hex}\")\n",
        "  return f\"Light set to {rgb_hex}\"  # Added return statement\n",
        "\n",
        "def disable_light()->str:  # Removed @tool decorator\n",
        "  \"\"\"Turn off the lighting system\"\"\"\n",
        "  print(\"LIGHT BOT: Lighting system turned off\")\n",
        "  return \"Lighting system turned off\"  # Added return statement\n",
        "\n",
        "# Convert Langchain tools to Google Generative AI tools\n",
        "google_ai_tools = [\n",
        "    content_types.CallableFunctionDeclaration.from_function(func)\n",
        "    for func in [enable_light, set_light_color, disable_light]\n",
        "]\n",
        "\n",
        "instruction = \"\"\"You are helpful lighting system bot.You can lights on and off, you can set the color .Do not perform any other tasks. \"\"\"\n",
        "\n",
        "# Pass the converted tools to GenerativeModel\n",
        "model = genai.GenerativeModel(\n",
        "    \"models/gemini-2.0-flash-exp\",\n",
        "    tools=google_ai_tools, # Use converted tools\n",
        "    system_instruction=instruction\n",
        ")\n",
        "\n",
        "chat = model.start_chat()"
      ],
      "metadata": {
        "id": "GXP7L8-DZIfR"
      },
      "execution_count": 66,
      "outputs": []
    },
    {
      "cell_type": "code",
      "source": [
        "from google.generativeai.types import content_types\n",
        "from collections.abc import Iterable\n"
      ],
      "metadata": {
        "id": "o8oDyJLmKS1t"
      },
      "execution_count": 71,
      "outputs": []
    },
    {
      "cell_type": "markdown",
      "source": [
        "# Create a helper function for setting \" function_calling_config \" on \" tool_config \""
      ],
      "metadata": {
        "id": "Yr1mDrsnnaSs"
      }
    },
    {
      "cell_type": "code",
      "source": [
        "def tool_config_from_mode(mode:str, fns: Iterable[str]=()):\n",
        "  \"\"\"Create a tool config with the specified function calling mode.\"\"\"\n",
        "  return content_types.to_tool_config(\n",
        "      {\n",
        "      \"function_calling_config\":{\"mode\":mode, \"allowed_function_names\":fns}\n",
        "      }\n",
        "      )"
      ],
      "metadata": {
        "id": "h7ny9dU4nkYX"
      },
      "execution_count": 72,
      "outputs": []
    },
    {
      "cell_type": "markdown",
      "source": [
        "# Text_only mode:NONE\n",
        "### If you have provided themodel with tools, but do not want to use those tools for current conversationalturn, then specify\n",
        "### NONE as the mode.NONE tells the model not to make any function calls, and will behave as though none havebeen provided.\n"
      ],
      "metadata": {
        "id": "7d7_FqkVbkVu"
      }
    },
    {
      "cell_type": "code",
      "source": [
        "tool_config = tool_config_from_mode(\"none\")\n",
        "response = chat.send_message(\n",
        "    \"Hello light_bot, what can you do?\",\n",
        "    tool_config = tool_config\n",
        ")\n",
        "print(response.text)\n"
      ],
      "metadata": {
        "id": "EBjSPvHhJMmB",
        "colab": {
          "base_uri": "https://localhost:8080/",
          "height": 52
        },
        "outputId": "1660ed9e-49a9-4448-d2d8-986f160c36b1"
      },
      "execution_count": 73,
      "outputs": [
        {
          "output_type": "stream",
          "name": "stdout",
          "text": [
            "Hello! I can turn lights on and off, and I can set their color.\n",
            "\n"
          ]
        }
      ]
    },
    {
      "cell_type": "markdown",
      "source": [
        "# Automatic mode : AUTO\n",
        "\n",
        "To allow the model to decide whether to respond in text or call specific functions, you can specify AUTO as the mode."
      ],
      "metadata": {
        "id": "C2CRna1fein4"
      }
    },
    {
      "cell_type": "code",
      "source": [
        "tool_config = tool_config_from_mode(\"auto\")\n",
        "\n",
        "response = chat.send_message(\n",
        "    \"Light this place up!\",\n",
        "    tool_config = tool_config\n",
        ")\n",
        "print(response.parts[0])\n",
        "chat.rewind();"
      ],
      "metadata": {
        "colab": {
          "base_uri": "https://localhost:8080/",
          "height": 121
        },
        "id": "aceWK-rGeh_d",
        "outputId": "af2404b3-0444-4a0e-84e6-042cb2c01104"
      },
      "execution_count": 74,
      "outputs": [
        {
          "output_type": "stream",
          "name": "stdout",
          "text": [
            "function_call {\n",
            "  name: \"enable_light\"\n",
            "  args {\n",
            "  }\n",
            "}\n",
            "\n"
          ]
        }
      ]
    },
    {
      "cell_type": "markdown",
      "source": [
        "# Function-calling mode : ANY\n",
        "\n",
        "Setting the mode to ANY will force the model to make a function call. By setting 'allowed_function_names' , In this example , If the lights are already on, then the user can change color or turn the lights off.\n"
      ],
      "metadata": {
        "id": "Eg-zVGC_hiya"
      }
    },
    {
      "cell_type": "code",
      "source": [
        "available_fns =[\"set_light_color\",\"disable_light\"]\n",
        "tool_config = tool_config_from_mode(\"any\", available_fns)\n",
        "\n",
        "response = chat.send_message(\n",
        "    \"Make this place PURPLE!\",\n",
        "    tool_config = tool_config\n",
        ")\n",
        "print(response.parts[0])"
      ],
      "metadata": {
        "colab": {
          "base_uri": "https://localhost:8080/",
          "height": 225
        },
        "id": "demthKGfilRw",
        "outputId": "f26a7dce-dc2f-4174-ad4c-00b63afa2598"
      },
      "execution_count": 75,
      "outputs": [
        {
          "output_type": "stream",
          "name": "stdout",
          "text": [
            "function_call {\n",
            "  name: \"set_light_color\"\n",
            "  args {\n",
            "    fields {\n",
            "      key: \"rgb_hex\"\n",
            "      value {\n",
            "        string_value: \"800080\"\n",
            "      }\n",
            "    }\n",
            "  }\n",
            "}\n",
            "\n"
          ]
        }
      ]
    },
    {
      "cell_type": "markdown",
      "source": [
        "# Automatic function calling\n",
        "\n",
        "'tool_config' works when enabling automatic function calling too."
      ],
      "metadata": {
        "id": "NtDTiUY0oTQf"
      }
    },
    {
      "cell_type": "code",
      "source": [
        "available_fns = [\"enable_light\"]\n",
        "tool_config = tool_config_from_mode(\"any\", available_fns)\n",
        "\n",
        "auto_chat = model.start_chat(enable_automatic_function_calling=True)\n",
        "response=auto_chat.send_message(\"It's a awful dark in here...\", tool_config=tool_config)"
      ],
      "metadata": {
        "colab": {
          "base_uri": "https://localhost:8080/",
          "height": 34
        },
        "id": "E-E6T-qbrLsG",
        "outputId": "9d8a0691-b6ff-49d9-da48-ef6458f445b3"
      },
      "execution_count": 79,
      "outputs": [
        {
          "output_type": "stream",
          "name": "stdout",
          "text": [
            "LIGHT BOT: Lighting system turned on\n"
          ]
        }
      ]
    },
    {
      "cell_type": "code",
      "source": [
        "response"
      ],
      "metadata": {
        "colab": {
          "base_uri": "https://localhost:8080/"
        },
        "id": "k_xI_wzyruVD",
        "outputId": "cfd5a784-b0ae-45e8-a226-307a7e7d35d0"
      },
      "execution_count": 81,
      "outputs": [
        {
          "output_type": "execute_result",
          "data": {
            "text/plain": [
              "response:\n",
              "GenerateContentResponse(\n",
              "    done=True,\n",
              "    iterator=None,\n",
              "    result=protos.GenerateContentResponse({\n",
              "      \"candidates\": [\n",
              "        {\n",
              "          \"content\": {\n",
              "            \"parts\": [\n",
              "              {\n",
              "                \"text\": \"That should be better!\\n\"\n",
              "              }\n",
              "            ],\n",
              "            \"role\": \"model\"\n",
              "          },\n",
              "          \"finish_reason\": \"STOP\",\n",
              "          \"safety_ratings\": [\n",
              "            {\n",
              "              \"category\": \"HARM_CATEGORY_HATE_SPEECH\",\n",
              "              \"probability\": \"NEGLIGIBLE\"\n",
              "            },\n",
              "            {\n",
              "              \"category\": \"HARM_CATEGORY_DANGEROUS_CONTENT\",\n",
              "              \"probability\": \"NEGLIGIBLE\"\n",
              "            },\n",
              "            {\n",
              "              \"category\": \"HARM_CATEGORY_HARASSMENT\",\n",
              "              \"probability\": \"NEGLIGIBLE\"\n",
              "            },\n",
              "            {\n",
              "              \"category\": \"HARM_CATEGORY_SEXUALLY_EXPLICIT\",\n",
              "              \"probability\": \"NEGLIGIBLE\"\n",
              "            }\n",
              "          ],\n",
              "          \"avg_logprobs\": -0.23144346475601196\n",
              "        }\n",
              "      ],\n",
              "      \"usage_metadata\": {\n",
              "        \"prompt_token_count\": 171,\n",
              "        \"candidates_token_count\": 6,\n",
              "        \"total_token_count\": 177\n",
              "      }\n",
              "    }),\n",
              ")"
            ]
          },
          "metadata": {},
          "execution_count": 81
        }
      ]
    },
    {
      "cell_type": "markdown",
      "source": [
        "# Run all the function"
      ],
      "metadata": {
        "id": "ZqdxNIMnsdHW"
      }
    },
    {
      "cell_type": "code",
      "source": [
        "available_fns = [\"enable_light\",\"set_light_color\",\"disable_light\"]\n",
        "tool_config = tool_config_from_mode(\"any\", available_fns)"
      ],
      "metadata": {
        "id": "TOCgLWRas92B"
      },
      "execution_count": 85,
      "outputs": []
    },
    {
      "cell_type": "code",
      "source": [
        "auto_chat = model.start_chat(enable_automatic_function_calling=True)\n",
        "response=auto_chat.send_message(\"enable lights and set light color red and then disable light\", tool_config=tool_config)"
      ],
      "metadata": {
        "colab": {
          "base_uri": "https://localhost:8080/",
          "height": 69
        },
        "id": "u00UrKicr6wz",
        "outputId": "4381b1cc-6333-4e18-b393-61d77a2012a8"
      },
      "execution_count": 88,
      "outputs": [
        {
          "output_type": "stream",
          "name": "stdout",
          "text": [
            "LIGHT BOT: Lighting system turned on\n",
            "LIGHT BOT:light set toFF0000\n",
            "LIGHT BOT: Lighting system turned off\n"
          ]
        }
      ]
    },
    {
      "cell_type": "code",
      "source": [
        "response"
      ],
      "metadata": {
        "colab": {
          "base_uri": "https://localhost:8080/"
        },
        "id": "kYYY_R5yuy2y",
        "outputId": "69fa84df-10c3-45e8-c116-f009aa1a65e9"
      },
      "execution_count": 89,
      "outputs": [
        {
          "output_type": "execute_result",
          "data": {
            "text/plain": [
              "response:\n",
              "GenerateContentResponse(\n",
              "    done=True,\n",
              "    iterator=None,\n",
              "    result=protos.GenerateContentResponse({\n",
              "      \"candidates\": [\n",
              "        {\n",
              "          \"content\": {\n",
              "            \"parts\": [\n",
              "              {\n",
              "                \"text\": \"OK. I've enabled the lights, set the color to red, and then disabled the lights. Anything else?\\n\"\n",
              "              }\n",
              "            ],\n",
              "            \"role\": \"model\"\n",
              "          },\n",
              "          \"finish_reason\": \"STOP\",\n",
              "          \"safety_ratings\": [\n",
              "            {\n",
              "              \"category\": \"HARM_CATEGORY_HATE_SPEECH\",\n",
              "              \"probability\": \"NEGLIGIBLE\"\n",
              "            },\n",
              "            {\n",
              "              \"category\": \"HARM_CATEGORY_DANGEROUS_CONTENT\",\n",
              "              \"probability\": \"NEGLIGIBLE\"\n",
              "            },\n",
              "            {\n",
              "              \"category\": \"HARM_CATEGORY_HARASSMENT\",\n",
              "              \"probability\": \"NEGLIGIBLE\"\n",
              "            },\n",
              "            {\n",
              "              \"category\": \"HARM_CATEGORY_SEXUALLY_EXPLICIT\",\n",
              "              \"probability\": \"NEGLIGIBLE\"\n",
              "            }\n",
              "          ],\n",
              "          \"avg_logprobs\": -0.038290197849273684\n",
              "        }\n",
              "      ],\n",
              "      \"usage_metadata\": {\n",
              "        \"prompt_token_count\": 254,\n",
              "        \"candidates_token_count\": 25,\n",
              "        \"total_token_count\": 279\n",
              "      }\n",
              "    }),\n",
              ")"
            ]
          },
          "metadata": {},
          "execution_count": 89
        }
      ]
    },
    {
      "cell_type": "markdown",
      "source": [
        "# Lights off"
      ],
      "metadata": {
        "id": "HygQh6OUvzdX"
      }
    },
    {
      "cell_type": "code",
      "source": [
        "auto_chat = model.start_chat(enable_automatic_function_calling=True)\n",
        "response=auto_chat.send_message(\" disable light\", tool_config=tool_config)"
      ],
      "metadata": {
        "colab": {
          "base_uri": "https://localhost:8080/",
          "height": 34
        },
        "id": "nHXxE77Cv7r6",
        "outputId": "24b7fcc6-7680-4ba6-de30-58b18e36f4f9"
      },
      "execution_count": 90,
      "outputs": [
        {
          "output_type": "stream",
          "name": "stdout",
          "text": [
            "LIGHT BOT: Lighting system turned off\n"
          ]
        }
      ]
    },
    {
      "cell_type": "code",
      "source": [
        "response"
      ],
      "metadata": {
        "colab": {
          "base_uri": "https://localhost:8080/"
        },
        "id": "w8vDkfIfwFEW",
        "outputId": "851977a2-f247-4a19-f44d-aef1138e4ff5"
      },
      "execution_count": 91,
      "outputs": [
        {
          "output_type": "execute_result",
          "data": {
            "text/plain": [
              "response:\n",
              "GenerateContentResponse(\n",
              "    done=True,\n",
              "    iterator=None,\n",
              "    result=protos.GenerateContentResponse({\n",
              "      \"candidates\": [\n",
              "        {\n",
              "          \"content\": {\n",
              "            \"parts\": [\n",
              "              {\n",
              "                \"text\": \"OK. I've turned off the lights.\\n\"\n",
              "              }\n",
              "            ],\n",
              "            \"role\": \"model\"\n",
              "          },\n",
              "          \"finish_reason\": \"STOP\",\n",
              "          \"safety_ratings\": [\n",
              "            {\n",
              "              \"category\": \"HARM_CATEGORY_HATE_SPEECH\",\n",
              "              \"probability\": \"NEGLIGIBLE\"\n",
              "            },\n",
              "            {\n",
              "              \"category\": \"HARM_CATEGORY_DANGEROUS_CONTENT\",\n",
              "              \"probability\": \"NEGLIGIBLE\"\n",
              "            },\n",
              "            {\n",
              "              \"category\": \"HARM_CATEGORY_HARASSMENT\",\n",
              "              \"probability\": \"NEGLIGIBLE\"\n",
              "            },\n",
              "            {\n",
              "              \"category\": \"HARM_CATEGORY_SEXUALLY_EXPLICIT\",\n",
              "              \"probability\": \"NEGLIGIBLE\"\n",
              "            }\n",
              "          ],\n",
              "          \"avg_logprobs\": -0.011215082623741844\n",
              "        }\n",
              "      ],\n",
              "      \"usage_metadata\": {\n",
              "        \"prompt_token_count\": 164,\n",
              "        \"candidates_token_count\": 11,\n",
              "        \"total_token_count\": 175\n",
              "      }\n",
              "    }),\n",
              ")"
            ]
          },
          "metadata": {},
          "execution_count": 91
        }
      ]
    },
    {
      "cell_type": "markdown",
      "source": [
        "# Creating a function Set the brightness of a room"
      ],
      "metadata": {
        "id": "EsXgOfz6w6Ar"
      }
    },
    {
      "cell_type": "code",
      "source": [
        "{\n",
        "  \"brightness\": \"50\",\n",
        "  \"colorTemperature\": \"daylight\"\n",
        "}"
      ],
      "metadata": {
        "colab": {
          "base_uri": "https://localhost:8080/"
        },
        "id": "aSVjVvvqxMwf",
        "outputId": "a7ae641e-ce42-4419-e6b4-0d96f2940f68"
      },
      "execution_count": 92,
      "outputs": [
        {
          "output_type": "execute_result",
          "data": {
            "text/plain": [
              "{'brightness': '50', 'colorTemperature': 'daylight'}"
            ]
          },
          "metadata": {},
          "execution_count": 92
        }
      ]
    },
    {
      "cell_type": "code",
      "source": [
        "from typing import Literal\n",
        "def set_light_values(brightness:int, color_temp: Literal[\"daylight\",\"cool\",\"warm\"]):\n",
        "    \"\"\"Set the brightness and color temperature of a room light. (mock API).\n",
        "\n",
        "    Args:\n",
        "        brightness: Light level from 0 to 100. Zero is off and 100 is full brightness\n",
        "        color_temp: Color temperature of the light fixture, which can be `daylight`, `cool` or `warm`.\n",
        "\n",
        "    Returns:\n",
        "        A dictionary containing the set brightness and color temperature.\n",
        "    \"\"\"\n",
        "    return {\n",
        "        \"brightness\": brightness,\n",
        "        \"colorTemperature\": color_temp\n",
        "    }"
      ],
      "metadata": {
        "id": "eHm7ltu7xBUl"
      },
      "execution_count": 104,
      "outputs": []
    },
    {
      "cell_type": "code",
      "source": [
        "model = genai.GenerativeModel(model_name='gemini-2.0-flash-exp',\n",
        "                              tools=[set_light_values])"
      ],
      "metadata": {
        "id": "xgU98FADx6ob"
      },
      "execution_count": 105,
      "outputs": []
    },
    {
      "cell_type": "code",
      "source": [
        "chat =model.start_chat()\n",
        "response1 = chat.send_message('Dim the lights so the room feels cozy and warm.')"
      ],
      "metadata": {
        "id": "4X6BJZGryVPT"
      },
      "execution_count": 112,
      "outputs": []
    },
    {
      "cell_type": "code",
      "source": [
        "response1"
      ],
      "metadata": {
        "colab": {
          "base_uri": "https://localhost:8080/"
        },
        "id": "Q7x0-BJU094Q",
        "outputId": "5d460853-9e70-43c4-9cf5-fb4e9019dca9"
      },
      "execution_count": 119,
      "outputs": [
        {
          "output_type": "execute_result",
          "data": {
            "text/plain": [
              "response:\n",
              "GenerateContentResponse(\n",
              "    done=True,\n",
              "    iterator=None,\n",
              "    result=protos.GenerateContentResponse({\n",
              "      \"candidates\": [\n",
              "        {\n",
              "          \"content\": {\n",
              "            \"parts\": [\n",
              "              {\n",
              "                \"function_call\": {\n",
              "                  \"name\": \"set_light_values\",\n",
              "                  \"args\": {\n",
              "                    \"brightness\": 30.0,\n",
              "                    \"color_temp\": \"warm\"\n",
              "                  }\n",
              "                }\n",
              "              }\n",
              "            ],\n",
              "            \"role\": \"model\"\n",
              "          },\n",
              "          \"finish_reason\": \"STOP\",\n",
              "          \"safety_ratings\": [\n",
              "            {\n",
              "              \"category\": \"HARM_CATEGORY_HATE_SPEECH\",\n",
              "              \"probability\": \"NEGLIGIBLE\"\n",
              "            },\n",
              "            {\n",
              "              \"category\": \"HARM_CATEGORY_DANGEROUS_CONTENT\",\n",
              "              \"probability\": \"NEGLIGIBLE\"\n",
              "            },\n",
              "            {\n",
              "              \"category\": \"HARM_CATEGORY_HARASSMENT\",\n",
              "              \"probability\": \"NEGLIGIBLE\"\n",
              "            },\n",
              "            {\n",
              "              \"category\": \"HARM_CATEGORY_SEXUALLY_EXPLICIT\",\n",
              "              \"probability\": \"NEGLIGIBLE\"\n",
              "            }\n",
              "          ],\n",
              "          \"avg_logprobs\": -0.01436355710029602\n",
              "        }\n",
              "      ],\n",
              "      \"usage_metadata\": {\n",
              "        \"prompt_token_count\": 158,\n",
              "        \"candidates_token_count\": 10,\n",
              "        \"total_token_count\": 168\n",
              "      }\n",
              "    }),\n",
              ")"
            ]
          },
          "metadata": {},
          "execution_count": 119
        }
      ]
    },
    {
      "cell_type": "markdown",
      "source": [
        "# Music function calling"
      ],
      "metadata": {
        "id": "6e-V0yeg3glr"
      }
    },
    {
      "cell_type": "code",
      "source": [
        "def power_disco_ball(power: bool) -> bool:\n",
        "    \"\"\"Powers the spinning disco ball.\"\"\"\n",
        "    print(f\"Disco ball is {'spinning!' if power else 'stopped.'}\")\n",
        "    return True\n",
        "\n",
        "\n",
        "def start_music(energetic: bool, loud: bool, bpm: int) -> str:\n",
        "    \"\"\"Play some music matching the specified parameters.\n",
        "\n",
        "    Args:\n",
        "      energetic: Whether the music is energetic or not.\n",
        "      loud: Whether the music is loud or not.\n",
        "      bpm: The beats per minute of the music.\n",
        "\n",
        "    Returns: The name of the song being played.\n",
        "    \"\"\"\n",
        "    print(f\"Starting music! {energetic=} {loud=}, {bpm=}\")\n",
        "    return \"Never gonna give you up.\"\n",
        "\n",
        "\n",
        "def dim_lights(brightness: float) -> bool:\n",
        "    \"\"\"Dim the lights.\n",
        "\n",
        "    Args:\n",
        "      brightness: The brightness of the lights, 0.0 is off, 1.0 is full.\n",
        "    \"\"\"\n",
        "    print(f\"Lights are now set to {brightness:.0%}\")\n",
        "    return True"
      ],
      "metadata": {
        "id": "MamC_AUf3pOw"
      },
      "execution_count": 122,
      "outputs": []
    },
    {
      "cell_type": "code",
      "source": [
        "# Set the model up with tools.\n",
        "house_fns = [power_disco_ball, start_music, dim_lights]\n",
        "\n",
        "model = genai.GenerativeModel(model_name=\"gemini-1.5-flash\", tools=house_fns)\n",
        "\n",
        "# Call the API.\n",
        "chat = model.start_chat()\n",
        "response = chat.send_message(\"Turn this place into a party!\")\n",
        "\n",
        "# Print out each of the function calls requested from this single call.\n",
        "for part in response.parts:\n",
        "    if fn := part.function_call:\n",
        "        args = \", \".join(f\"{key}={val}\" for key, val in fn.args.items())\n",
        "        print(f\"{fn.name}({args})\")"
      ],
      "metadata": {
        "colab": {
          "base_uri": "https://localhost:8080/",
          "height": 69
        },
        "id": "phU04Ys831he",
        "outputId": "864ad33a-3bce-433e-a231-944e01ce9895"
      },
      "execution_count": 123,
      "outputs": [
        {
          "output_type": "stream",
          "name": "stdout",
          "text": [
            "power_disco_ball(power=True)\n",
            "start_music(loud=True, energetic=True, bpm=120.0)\n",
            "dim_lights(brightness=0.5)\n"
          ]
        }
      ]
    },
    {
      "cell_type": "code",
      "source": [
        "# Simulate the responses from the specified tools.\n",
        "responses = {\n",
        "    \"power_disco_ball\": True,\n",
        "    \"start_music\": \"Never gonna give you up.\",\n",
        "    \"dim_lights\": True,\n",
        "}\n",
        "\n",
        "# Build the response parts.\n",
        "response_parts = [\n",
        "    genai.protos.Part(function_response=genai.protos.FunctionResponse(name=fn, response={\"result\": val}))\n",
        "    for fn, val in responses.items()\n",
        "]\n",
        "\n",
        "response = chat.send_message(response_parts)\n",
        "print(response.text)"
      ],
      "metadata": {
        "colab": {
          "base_uri": "https://localhost:8080/",
          "height": 52
        },
        "id": "QMbW6rVh4jqT",
        "outputId": "724605f6-6940-420f-8e3a-ceb7ab23f441"
      },
      "execution_count": 124,
      "outputs": [
        {
          "output_type": "stream",
          "name": "stdout",
          "text": [
            "Party started!  Playing \"Never gonna give you up\" at 120 bpm.  The disco ball is spinning and the lights are dimmed to 50% brightness.\n",
            "\n"
          ]
        }
      ]
    },
    {
      "cell_type": "code",
      "source": [
        "model._tools.to_proto()"
      ],
      "metadata": {
        "colab": {
          "base_uri": "https://localhost:8080/"
        },
        "id": "WG5qFlHK4zqW",
        "outputId": "9e1e92de-9e9c-4a39-887a-b0e5c641660d"
      },
      "execution_count": 125,
      "outputs": [
        {
          "output_type": "execute_result",
          "data": {
            "text/plain": [
              "[function_declarations {\n",
              "   name: \"power_disco_ball\"\n",
              "   description: \"Powers the spinning disco ball.\"\n",
              "   parameters {\n",
              "     type_: OBJECT\n",
              "     properties {\n",
              "       key: \"power\"\n",
              "       value {\n",
              "         type_: BOOLEAN\n",
              "       }\n",
              "     }\n",
              "     required: \"power\"\n",
              "   }\n",
              " }\n",
              " function_declarations {\n",
              "   name: \"start_music\"\n",
              "   description: \"Play some music matching the specified parameters.\\n\\n    Args:\\n      energetic: Whether the music is energetic or not.\\n      loud: Whether the music is loud or not.\\n      bpm: The beats per minute of the music.\\n\\n    Returns: The name of the song being played.\\n    \"\n",
              "   parameters {\n",
              "     type_: OBJECT\n",
              "     properties {\n",
              "       key: \"loud\"\n",
              "       value {\n",
              "         type_: BOOLEAN\n",
              "       }\n",
              "     }\n",
              "     properties {\n",
              "       key: \"energetic\"\n",
              "       value {\n",
              "         type_: BOOLEAN\n",
              "       }\n",
              "     }\n",
              "     properties {\n",
              "       key: \"bpm\"\n",
              "       value {\n",
              "         type_: INTEGER\n",
              "       }\n",
              "     }\n",
              "     required: \"energetic\"\n",
              "     required: \"loud\"\n",
              "     required: \"bpm\"\n",
              "   }\n",
              " }\n",
              " function_declarations {\n",
              "   name: \"dim_lights\"\n",
              "   description: \"Dim the lights.\\n\\n    Args:\\n      brightness: The brightness of the lights, 0.0 is off, 1.0 is full.\\n    \"\n",
              "   parameters {\n",
              "     type_: OBJECT\n",
              "     properties {\n",
              "       key: \"brightness\"\n",
              "       value {\n",
              "         type_: NUMBER\n",
              "       }\n",
              "     }\n",
              "     required: \"brightness\"\n",
              "   }\n",
              " }]"
            ]
          },
          "metadata": {},
          "execution_count": 125
        }
      ]
    }
  ]
}