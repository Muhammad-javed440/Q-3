{
  "nbformat": 4,
  "nbformat_minor": 0,
  "metadata": {
    "colab": {
      "provenance": [],
      "authorship_tag": "ABX9TyMhFWvjcbSFp6qlUiWqKIJf",
      "include_colab_link": true
    },
    "kernelspec": {
      "name": "python3",
      "display_name": "Python 3"
    },
    "language_info": {
      "name": "python"
    }
  },
  "cells": [
    {
      "cell_type": "markdown",
      "metadata": {
        "id": "view-in-github",
        "colab_type": "text"
      },
      "source": [
        "<a href=\"https://colab.research.google.com/github/Muhammad-javed440/Q-3/blob/master/groq_provider.ipynb\" target=\"_parent\"><img src=\"https://colab.research.google.com/assets/colab-badge.svg\" alt=\"Open In Colab\"/></a>"
      ]
    },
    {
      "cell_type": "markdown",
      "source": [
        "# Creating a chatbot using Groq provider"
      ],
      "metadata": {
        "id": "UCN5VmglStte"
      }
    },
    {
      "cell_type": "code",
      "execution_count": 3,
      "metadata": {
        "colab": {
          "base_uri": "https://localhost:8080/"
        },
        "id": "3zBTBPPA3fay",
        "outputId": "fbb6f28b-8797-4795-f1e2-1ab626774133"
      },
      "outputs": [
        {
          "output_type": "stream",
          "name": "stdout",
          "text": [
            "Collecting groq\n",
            "  Downloading groq-0.15.0-py3-none-any.whl.metadata (14 kB)\n",
            "Requirement already satisfied: anyio<5,>=3.5.0 in /usr/local/lib/python3.10/dist-packages (from groq) (3.7.1)\n",
            "Requirement already satisfied: distro<2,>=1.7.0 in /usr/local/lib/python3.10/dist-packages (from groq) (1.9.0)\n",
            "Requirement already satisfied: httpx<1,>=0.23.0 in /usr/local/lib/python3.10/dist-packages (from groq) (0.28.1)\n",
            "Requirement already satisfied: pydantic<3,>=1.9.0 in /usr/local/lib/python3.10/dist-packages (from groq) (2.10.4)\n",
            "Requirement already satisfied: sniffio in /usr/local/lib/python3.10/dist-packages (from groq) (1.3.1)\n",
            "Requirement already satisfied: typing-extensions<5,>=4.10 in /usr/local/lib/python3.10/dist-packages (from groq) (4.12.2)\n",
            "Requirement already satisfied: idna>=2.8 in /usr/local/lib/python3.10/dist-packages (from anyio<5,>=3.5.0->groq) (3.10)\n",
            "Requirement already satisfied: exceptiongroup in /usr/local/lib/python3.10/dist-packages (from anyio<5,>=3.5.0->groq) (1.2.2)\n",
            "Requirement already satisfied: certifi in /usr/local/lib/python3.10/dist-packages (from httpx<1,>=0.23.0->groq) (2024.12.14)\n",
            "Requirement already satisfied: httpcore==1.* in /usr/local/lib/python3.10/dist-packages (from httpx<1,>=0.23.0->groq) (1.0.7)\n",
            "Requirement already satisfied: h11<0.15,>=0.13 in /usr/local/lib/python3.10/dist-packages (from httpcore==1.*->httpx<1,>=0.23.0->groq) (0.14.0)\n",
            "Requirement already satisfied: annotated-types>=0.6.0 in /usr/local/lib/python3.10/dist-packages (from pydantic<3,>=1.9.0->groq) (0.7.0)\n",
            "Requirement already satisfied: pydantic-core==2.27.2 in /usr/local/lib/python3.10/dist-packages (from pydantic<3,>=1.9.0->groq) (2.27.2)\n",
            "Downloading groq-0.15.0-py3-none-any.whl (109 kB)\n",
            "\u001b[2K   \u001b[90m━━━━━━━━━━━━━━━━━━━━━━━━━━━━━━━━━━━━━━━━\u001b[0m \u001b[32m109.6/109.6 kB\u001b[0m \u001b[31m2.8 MB/s\u001b[0m eta \u001b[36m0:00:00\u001b[0m\n",
            "\u001b[?25hInstalling collected packages: groq\n",
            "Successfully installed groq-0.15.0\n"
          ]
        }
      ],
      "source": [
        "!pip install groq"
      ]
    },
    {
      "cell_type": "code",
      "source": [
        "import os  # This module is used for file operations, environment variables, or other OS-level tasks!\n",
        "from groq import Groq\n",
        "from google.colab import userdata"
      ],
      "metadata": {
        "id": "d7xEBWSo5vOl"
      },
      "execution_count": 4,
      "outputs": []
    },
    {
      "cell_type": "code",
      "source": [
        "# Retrieve the API key from userdata\n",
        "api_key = userdata.get('GROQ_API_KEY')\n",
        "\n",
        "# Set the GROQ_API_KEY environment variable\n",
        "os.environ[\"GROQ_API_KEY\"] = api_key"
      ],
      "metadata": {
        "id": "w5od8ns06OIb"
      },
      "execution_count": 5,
      "outputs": []
    },
    {
      "cell_type": "code",
      "source": [
        "\n",
        "# Initialize the Groq client (it will now find the API key)\n",
        "client = Groq()\n",
        "\n",
        "chat_completion = client.chat.completions.create(\n",
        "    messages=[\n",
        "        {\n",
        "            \"role\": \"user\",\n",
        "            \"content\": \"Explain the me about history of islam\",\n",
        "        }\n",
        "    ],\n",
        "    model=\"llama-3.3-70b-versatile\",\n",
        ")\n",
        "\n"
      ],
      "metadata": {
        "id": "kWOhiGxv5St9"
      },
      "execution_count": 12,
      "outputs": []
    },
    {
      "cell_type": "code",
      "source": [
        "print(chat_completion.choices[0].message.content)"
      ],
      "metadata": {
        "colab": {
          "base_uri": "https://localhost:8080/"
        },
        "id": "-5MgIc5s7nrE",
        "outputId": "594c2b79-a6c7-4791-bbbb-779dd8c72665"
      },
      "execution_count": 13,
      "outputs": [
        {
          "output_type": "stream",
          "name": "stdout",
          "text": [
            "The history of Islam is a vast and complex subject, spanning over 1400 years. I'll try to provide a brief overview, highlighting the key events, figures, and periods.\n",
            "\n",
            "**The Pre-Islamic Era (570-610 CE)**\n",
            "\n",
            "Before the advent of Islam, the Arabian Peninsula was inhabited by various tribes, many of whom were polytheistic, worshiping multiple gods and goddesses. The city of Mecca, located in present-day Saudi Arabia, was a major commercial center and a hub for trade and pilgrimage.\n",
            "\n",
            "**The Life of Prophet Muhammad (570-632 CE)**\n",
            "\n",
            "Prophet Muhammad was born in Mecca in 570 CE. Orphaned at a young age, he was raised by his uncle, Abu Talib. Muhammad worked as a merchant and eventually married Khadijah, a wealthy widow. At the age of 40, Muhammad received his first revelation from Allah (God) through the angel Gabriel. This marked the beginning of his prophetic mission.\n",
            "\n",
            "**The Early Years of Islam (610-622 CE)**\n",
            "\n",
            "Muhammad began preaching the message of Islam, stressing the importance of monotheism, justice, and compassion. He faced resistance and persecution from the Meccans, who saw his teachings as a threat to their traditional way of life. In 622 CE, Muhammad and his followers, known as the Muhajirun (emigrants), migrated to Medina, a city located about 200 miles north of Mecca.\n",
            "\n",
            "**The Medina Period (622-632 CE)**\n",
            "\n",
            "In Medina, Muhammad established the first Islamic community, with a system of governance, laws, and social institutions. He also received further revelations, which were compiled into the Quran, the holy book of Islam. The Prophet Muhammad's leadership and vision helped to unite the Arabian tribes and create a sense of unity and purpose among the Muslims.\n",
            "\n",
            "**The Expansion of Islam (632-750 CE)**\n",
            "\n",
            "After Muhammad's death in 632 CE, his closest companion, Abu Bakr, became the first caliph (leader) of the Islamic community. Under the leadership of the Rashidun Caliphs (Abu Bakr, Umar, Uthman, and Ali), Islam spread rapidly throughout the Middle East, North Africa, and parts of Europe. The Islamic Empire expanded through a combination of military conquests and peaceful conversions.\n",
            "\n",
            "**The Umayyad and Abbasid Caliphates (661-1258 CE)**\n",
            "\n",
            "The Umayyad Caliphate, which ruled from 661 to 750 CE, was marked by a period of significant expansion and cultural achievements. The Abbasid Caliphate, which ruled from 750 to 1258 CE, saw the rise of centers of learning, such as Baghdad, which became a hub for intellectual and cultural exchange.\n",
            "\n",
            "**The Middle Ages (1258-1500 CE)**\n",
            "\n",
            "The Mongol conquests of the 13th century CE had a devastating impact on the Islamic world, leading to the destruction of many cities and the decline of Islamic civilization. However, this period also saw the emergence of new Islamic dynasties, such as the Mamluks in Egypt and the Ottomans in Anatolia (modern-day Turkey).\n",
            "\n",
            "**The Ottoman Empire (1299-1924 CE)**\n",
            "\n",
            "The Ottoman Empire, which was founded by Osman Bey in 1299 CE, became one of the most powerful and influential Islamic empires in history. The Ottomans expanded into the Middle East, North Africa, and Eastern Europe, leaving a lasting legacy in the fields of architecture, art, literature, and politics.\n",
            "\n",
            "**The Modern Era (1500 CE-Present)**\n",
            "\n",
            "The modern era has seen significant challenges and transformations in the Islamic world. The decline of the Ottoman Empire, the rise of colonialism, and the emergence of nation-states have all had a profound impact on the Islamic world. Today, Islam is a global religion, with over 1.8 billion adherents, and is practiced in diverse forms and contexts around the world.\n",
            "\n",
            "**Key Figures in Islamic History**\n",
            "\n",
            "1. **Prophet Muhammad**: The founder of Islam and the last prophet in the Islamic tradition.\n",
            "2. **Abu Bakr**: The first caliph and a close companion of the Prophet Muhammad.\n",
            "3. **Umar ibn Al-Khattab**: The second caliph and a renowned leader who expanded the Islamic Empire.\n",
            "4. **Ali ibn Abi Talib**: The fourth caliph and a cousin and son-in-law of the Prophet Muhammad.\n",
            "5. **Saladin**: A Kurdish-Egyptian Muslim leader who united the Islamic world and led the defense against the Crusades.\n",
            "6. **Ibn Sina (Avicenna)**: A renowned philosopher, scientist, and physician who made significant contributions to Islamic thought and culture.\n",
            "7. **Ibn Rushd (Averroes)**: A philosopher and jurist who played a key role in the transmission of Greek knowledge to Europe.\n",
            "\n",
            "**Key Events in Islamic History**\n",
            "\n",
            "1. **The Hijra (622 CE)**: The migration of the Prophet Muhammad and his followers from Mecca to Medina.\n",
            "2. **The Battle of Badr (624 CE)**: A decisive battle in which the Muslims defeated the Meccans, marking a turning point in the early history of Islam.\n",
            "3. **The Conquest of Mecca (630 CE)**: The Prophet Muhammad's conquest of Mecca, which marked the beginning of the end of pagan worship in the city.\n",
            "4. **The Battle of Karbala (680 CE)**: A tragic event in which the grandson of the Prophet Muhammad, Husayn ibn Ali, was martyred, leading to a significant schism in the Islamic community.\n",
            "5. **The Mongol Conquests (13th century CE)**: A series of devastating invasions that had a profound impact on the Islamic world.\n",
            "\n",
            "This is just a brief overview of the history of Islam. There is much more to explore, and I hope this provides a good starting point for your journey of discovery.\n"
          ]
        }
      ]
    }
  ]
}